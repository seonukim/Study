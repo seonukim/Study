{
 "cells": [
  {
   "cell_type": "code",
   "execution_count": 1,
   "metadata": {},
   "outputs": [
    {
     "name": "stdout",
     "output_type": "stream",
     "text": [
      "1.10.0\n"
     ]
    }
   ],
   "source": [
    "import tensorflow as tf\n",
    "print(tf.__version__)"
   ]
  },
  {
   "cell_type": "code",
   "execution_count": 6,
   "metadata": {},
   "outputs": [
    {
     "ename": "SyntaxError",
     "evalue": "invalid syntax (<ipython-input-6-bf583e9fa977>, line 12)",
     "output_type": "error",
     "traceback": [
      "\u001b[1;36m  File \u001b[1;32m\"<ipython-input-6-bf583e9fa977>\"\u001b[1;36m, line \u001b[1;32m12\u001b[0m\n\u001b[1;33m    print(f'출력 : {output}')\u001b[0m\n\u001b[1;37m                         ^\u001b[0m\n\u001b[1;31mSyntaxError\u001b[0m\u001b[1;31m:\u001b[0m invalid syntax\n"
     ]
    }
   ],
   "source": [
    "# 벡터의 내적\n",
    "# x*y\n",
    "# <x,y>\n",
    "# x^Ty\n",
    "x = tf.placeholder(tf.float32, shape=(3,1))\n",
    "y = tf.placeholder(tf.float32, shape=(3,1))\n",
    "x_T = tf.transpose(x)\n",
    "inner_product = tf.matmul(x_T, y)\n",
    "with tf.Session() as sess:\n",
    "    output = sess.run(inner_product, feed_dict={x:[[1],[2],[3]],\n",
    "                                                y:[[4],[5],[6]]})\n",
    "    print(f'출력 : {output}')"
   ]
  },
  {
   "cell_type": "code",
   "execution_count": null,
   "metadata": {},
   "outputs": [],
   "source": []
  }
 ],
 "metadata": {
  "kernelspec": {
   "display_name": "Python 3",
   "language": "python",
   "name": "python3"
  },
  "language_info": {
   "codemirror_mode": {
    "name": "ipython",
    "version": 3
   },
   "file_extension": ".py",
   "mimetype": "text/x-python",
   "name": "python",
   "nbconvert_exporter": "python",
   "pygments_lexer": "ipython3",
   "version": "3.5.6"
  }
 },
 "nbformat": 4,
 "nbformat_minor": 4
}
