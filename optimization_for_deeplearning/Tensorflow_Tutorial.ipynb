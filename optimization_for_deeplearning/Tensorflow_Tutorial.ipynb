{
 "cells": [
  {
   "cell_type": "markdown",
   "metadata": {},
   "source": [
    "### Tensorflow의 특징\n",
    "**1)** 딥러닝 모델을 그래프 방식으로 표현함으로써 다양한 딥러닝 모델 구축 가능\n",
    "\n",
    "**2)** 자동으로 미분 계산을 처리해주어 역전파법(Backpropagation) 구현을 생략 가능\n",
    "\n",
    "**3)** 텐서보드를 사용하여 딥러닝 학습 진행 상황을 웹서버를 통해 간편한 모니터링 가능\n",
    "\n",
    "**4)** 적은 코드 내용 수정으로 그래픽카드를 사용한 가속이 가능"
   ]
  },
  {
   "cell_type": "code",
   "execution_count": 1,
   "metadata": {},
   "outputs": [
    {
     "name": "stdout",
     "output_type": "stream",
     "text": [
      "1.10.0\n"
     ]
    }
   ],
   "source": [
    "import numpy as np\n",
    "import tensorflow as tf\n",
    "print(tf.__version__)"
   ]
  },
  {
   "cell_type": "markdown",
   "metadata": {},
   "source": [
    "### 그래프(Graph)\n",
    "- 텐서플로를 사용한 코드는 크게 두 부분으로 나눌 수 있다.\n",
    "\n",
    "- '그래프 만들기'와 '만든 그래프에 데이터 흘려보내기'"
   ]
  },
  {
   "cell_type": "markdown",
   "metadata": {},
   "source": [
    "### 텐서(Tensor)\n",
    "- 텐서는 벡터와 행렬의 n차원 배열을 일반화한 개념\n",
    "\n",
    "- 딥러닝에 필요한 데이터와 계산된 값들은 모두 예외 없이 텐서로 표현된다\n",
    "\n",
    "- 모든 텐서에는 **데이터 타입(Data type)**과 **모양(Shape)**이 있으며,\n",
    "\n",
    "- 데이터 타입은 float32, float64, int32, int64, bool, string 등의 기본적인 타입이 있음\n",
    "\n",
    "- 한 텐서는 모두 같은 데이터 타입으로 구성되어야 한다\n",
    "\n",
    "- **모양(Shape)**은 각 차원의 크기를 알려주는 튜플(Tuple)\n",
    "\n",
    "- n차원 텐서라면 튜플의 길이는 n이 되고, 이 때 n을 랭크(Rank)라고 부른다.\n",
    "\n",
    "- 랭크가 **0**이면  **스칼라(Scalar)**\n",
    "\n",
    "- 랭크가 **1**이면  **벡터(Vector)**\n",
    "\n",
    "- 랭크가 **2**이면  **행렬(Matrix)**\n",
    "\n",
    "- 랭크가 **3**이면  **3-Tensor**\n",
    "\n",
    "- 랭크가 **N**이면  **N-Tensor(사용자 정의)**"
   ]
  },
  {
   "cell_type": "markdown",
   "metadata": {},
   "source": [
    "### 주요 타입 3가지\n",
    "- Contant\n",
    "\n",
    "- Placeholder\n",
    "\n",
    "- Variable"
   ]
  },
  {
   "cell_type": "code",
   "execution_count": 2,
   "metadata": {},
   "outputs": [
    {
     "name": "stdout",
     "output_type": "stream",
     "text": [
      "Tensor(\"Const:0\", shape=(), dtype=string)\n",
      "<class 'tensorflow.python.framework.ops.Tensor'>\n",
      "b'Hello World!'\n",
      "<class 'bytes'>\n"
     ]
    }
   ],
   "source": [
    "## 상수(Constant)와 세션(Session)\n",
    "hello_constant = tf.constant('Hello World!')        # 그래프를 구성하는 코드\n",
    "print(hello_constant)                               # Constant(상수)는 한번 선언되면 변경될 수 없음\n",
    "print(type(hello_constant))\n",
    "\n",
    "sess = tf.Session()\n",
    "output = sess.run(hello_constant)        # 구성된 그래프를 실행하는 코드, 연산 실행 시점\n",
    "print(output)\n",
    "print(type(output))"
   ]
  },
  {
   "cell_type": "code",
   "execution_count": 3,
   "metadata": {},
   "outputs": [
    {
     "name": "stdout",
     "output_type": "stream",
     "text": [
      "b'Hello World!'\n"
     ]
    }
   ],
   "source": [
    "hello_constant = tf.constant('Hello World!')\n",
    "with tf.Session() as sess:\n",
    "    output = sess.run(hello_constant)\n",
    "print(output)"
   ]
  },
  {
   "cell_type": "code",
   "execution_count": 4,
   "metadata": {},
   "outputs": [
    {
     "ename": "TypeError",
     "evalue": "Expected DataType for argument 'dtype' not 'Hello World!'.",
     "output_type": "error",
     "traceback": [
      "\u001b[1;31m---------------------------------------------------------------------------\u001b[0m",
      "\u001b[1;31mTypeError\u001b[0m                                 Traceback (most recent call last)",
      "\u001b[1;32m~\\anaconda3\\envs\\deep-learning\\lib\\site-packages\\tensorflow\\python\\eager\\execute.py\u001b[0m in \u001b[0;36mmake_type\u001b[1;34m(v, arg_name)\u001b[0m\n\u001b[0;32m    122\u001b[0m   \u001b[1;32mtry\u001b[0m\u001b[1;33m:\u001b[0m\u001b[1;33m\u001b[0m\u001b[0m\n\u001b[1;32m--> 123\u001b[1;33m     \u001b[0mv\u001b[0m \u001b[1;33m=\u001b[0m \u001b[0mdtypes\u001b[0m\u001b[1;33m.\u001b[0m\u001b[0mas_dtype\u001b[0m\u001b[1;33m(\u001b[0m\u001b[0mv\u001b[0m\u001b[1;33m)\u001b[0m\u001b[1;33m.\u001b[0m\u001b[0mbase_dtype\u001b[0m\u001b[1;33m\u001b[0m\u001b[0m\n\u001b[0m\u001b[0;32m    124\u001b[0m   \u001b[1;32mexcept\u001b[0m \u001b[0mTypeError\u001b[0m\u001b[1;33m:\u001b[0m\u001b[1;33m\u001b[0m\u001b[0m\n",
      "\u001b[1;32m~\\anaconda3\\envs\\deep-learning\\lib\\site-packages\\tensorflow\\python\\framework\\dtypes.py\u001b[0m in \u001b[0;36mas_dtype\u001b[1;34m(type_value)\u001b[0m\n\u001b[0;32m    711\u001b[0m \u001b[1;33m\u001b[0m\u001b[0m\n\u001b[1;32m--> 712\u001b[1;33m   \u001b[1;32mraise\u001b[0m \u001b[0mTypeError\u001b[0m\u001b[1;33m(\u001b[0m\u001b[1;34m\"Cannot convert value %r to a TensorFlow DType.\"\u001b[0m \u001b[1;33m%\u001b[0m \u001b[0mtype_value\u001b[0m\u001b[1;33m)\u001b[0m\u001b[1;33m\u001b[0m\u001b[0m\n\u001b[0m",
      "\u001b[1;31mTypeError\u001b[0m: Cannot convert value 'Hello World!' to a TensorFlow DType.",
      "\nDuring handling of the above exception, another exception occurred:\n",
      "\u001b[1;31mTypeError\u001b[0m                                 Traceback (most recent call last)",
      "\u001b[1;32m<ipython-input-4-dac5bdb0a7d4>\u001b[0m in \u001b[0;36m<module>\u001b[1;34m()\u001b[0m\n\u001b[0;32m      2\u001b[0m \u001b[1;31m# Placeholder는 Variable과 함께 가장 많이 보게 될 텐서 타입\u001b[0m\u001b[1;33m\u001b[0m\u001b[1;33m\u001b[0m\u001b[0m\n\u001b[0;32m      3\u001b[0m \u001b[1;31m# 위의 Constant 코드에서 단순하게 Constant를 placeholder로 바꿔서 실행하면 오류 발생\u001b[0m\u001b[1;33m\u001b[0m\u001b[1;33m\u001b[0m\u001b[0m\n\u001b[1;32m----> 4\u001b[1;33m \u001b[0mhello_constant\u001b[0m \u001b[1;33m=\u001b[0m \u001b[0mtf\u001b[0m\u001b[1;33m.\u001b[0m\u001b[0mplaceholder\u001b[0m\u001b[1;33m(\u001b[0m\u001b[1;34m'Hello World!'\u001b[0m\u001b[1;33m)\u001b[0m\u001b[1;33m\u001b[0m\u001b[0m\n\u001b[0m\u001b[0;32m      5\u001b[0m \u001b[1;32mwith\u001b[0m \u001b[0mtf\u001b[0m\u001b[1;33m.\u001b[0m\u001b[0mSession\u001b[0m\u001b[1;33m(\u001b[0m\u001b[1;33m)\u001b[0m \u001b[1;32mas\u001b[0m \u001b[0msess\u001b[0m\u001b[1;33m:\u001b[0m\u001b[1;33m\u001b[0m\u001b[0m\n\u001b[0;32m      6\u001b[0m     \u001b[0moutput\u001b[0m \u001b[1;33m=\u001b[0m \u001b[0msess\u001b[0m\u001b[1;33m.\u001b[0m\u001b[0mrun\u001b[0m\u001b[1;33m(\u001b[0m\u001b[0mhello_constant\u001b[0m\u001b[1;33m)\u001b[0m\u001b[1;33m\u001b[0m\u001b[0m\n",
      "\u001b[1;32m~\\anaconda3\\envs\\deep-learning\\lib\\site-packages\\tensorflow\\python\\ops\\array_ops.py\u001b[0m in \u001b[0;36mplaceholder\u001b[1;34m(dtype, shape, name)\u001b[0m\n\u001b[0;32m   1733\u001b[0m                        \"eager execution.\")\n\u001b[0;32m   1734\u001b[0m \u001b[1;33m\u001b[0m\u001b[0m\n\u001b[1;32m-> 1735\u001b[1;33m   \u001b[1;32mreturn\u001b[0m \u001b[0mgen_array_ops\u001b[0m\u001b[1;33m.\u001b[0m\u001b[0mplaceholder\u001b[0m\u001b[1;33m(\u001b[0m\u001b[0mdtype\u001b[0m\u001b[1;33m=\u001b[0m\u001b[0mdtype\u001b[0m\u001b[1;33m,\u001b[0m \u001b[0mshape\u001b[0m\u001b[1;33m=\u001b[0m\u001b[0mshape\u001b[0m\u001b[1;33m,\u001b[0m \u001b[0mname\u001b[0m\u001b[1;33m=\u001b[0m\u001b[0mname\u001b[0m\u001b[1;33m)\u001b[0m\u001b[1;33m\u001b[0m\u001b[0m\n\u001b[0m\u001b[0;32m   1736\u001b[0m \u001b[1;33m\u001b[0m\u001b[0m\n\u001b[0;32m   1737\u001b[0m \u001b[1;33m\u001b[0m\u001b[0m\n",
      "\u001b[1;32m~\\anaconda3\\envs\\deep-learning\\lib\\site-packages\\tensorflow\\python\\ops\\gen_array_ops.py\u001b[0m in \u001b[0;36mplaceholder\u001b[1;34m(dtype, shape, name)\u001b[0m\n\u001b[0;32m   4917\u001b[0m   \u001b[0m_ctx\u001b[0m \u001b[1;33m=\u001b[0m \u001b[0m_context\u001b[0m\u001b[1;33m.\u001b[0m\u001b[0m_context\u001b[0m\u001b[1;33m\u001b[0m\u001b[0m\n\u001b[0;32m   4918\u001b[0m   \u001b[1;32mif\u001b[0m \u001b[0m_ctx\u001b[0m \u001b[1;32mis\u001b[0m \u001b[1;32mNone\u001b[0m \u001b[1;32mor\u001b[0m \u001b[1;32mnot\u001b[0m \u001b[0m_ctx\u001b[0m\u001b[1;33m.\u001b[0m\u001b[0m_eager_context\u001b[0m\u001b[1;33m.\u001b[0m\u001b[0mis_eager\u001b[0m\u001b[1;33m:\u001b[0m\u001b[1;33m\u001b[0m\u001b[0m\n\u001b[1;32m-> 4919\u001b[1;33m     \u001b[0mdtype\u001b[0m \u001b[1;33m=\u001b[0m \u001b[0m_execute\u001b[0m\u001b[1;33m.\u001b[0m\u001b[0mmake_type\u001b[0m\u001b[1;33m(\u001b[0m\u001b[0mdtype\u001b[0m\u001b[1;33m,\u001b[0m \u001b[1;34m\"dtype\"\u001b[0m\u001b[1;33m)\u001b[0m\u001b[1;33m\u001b[0m\u001b[0m\n\u001b[0m\u001b[0;32m   4920\u001b[0m     \u001b[1;32mif\u001b[0m \u001b[0mshape\u001b[0m \u001b[1;32mis\u001b[0m \u001b[1;32mNone\u001b[0m\u001b[1;33m:\u001b[0m\u001b[1;33m\u001b[0m\u001b[0m\n\u001b[0;32m   4921\u001b[0m       \u001b[0mshape\u001b[0m \u001b[1;33m=\u001b[0m \u001b[1;32mNone\u001b[0m\u001b[1;33m\u001b[0m\u001b[0m\n",
      "\u001b[1;32m~\\anaconda3\\envs\\deep-learning\\lib\\site-packages\\tensorflow\\python\\eager\\execute.py\u001b[0m in \u001b[0;36mmake_type\u001b[1;34m(v, arg_name)\u001b[0m\n\u001b[0;32m    124\u001b[0m   \u001b[1;32mexcept\u001b[0m \u001b[0mTypeError\u001b[0m\u001b[1;33m:\u001b[0m\u001b[1;33m\u001b[0m\u001b[0m\n\u001b[0;32m    125\u001b[0m     raise TypeError(\"Expected DataType for argument '%s' not %s.\" %\n\u001b[1;32m--> 126\u001b[1;33m                     (arg_name, repr(v)))\n\u001b[0m\u001b[0;32m    127\u001b[0m   \u001b[0mi\u001b[0m \u001b[1;33m=\u001b[0m \u001b[0mv\u001b[0m\u001b[1;33m.\u001b[0m\u001b[0mas_datatype_enum\u001b[0m\u001b[1;33m\u001b[0m\u001b[0m\n\u001b[0;32m    128\u001b[0m   \u001b[1;32mreturn\u001b[0m \u001b[0mi\u001b[0m\u001b[1;33m\u001b[0m\u001b[0m\n",
      "\u001b[1;31mTypeError\u001b[0m: Expected DataType for argument 'dtype' not 'Hello World!'."
     ]
    }
   ],
   "source": [
    "## Placeholder\n",
    "# Placeholder는 Variable과 함께 가장 많이 보게 될 텐서 타입\n",
    "# 위의 Constant 코드에서 단순하게 Constant를 placeholder로 바꿔서 실행하면 오류 발생\n",
    "hello_constant = tf.placeholder('Hello World!')\n",
    "with tf.Session() as sess:\n",
    "    output = sess.run(hello_constant)\n",
    "print(output)"
   ]
  },
  {
   "cell_type": "code",
   "execution_count": null,
   "metadata": {},
   "outputs": [],
   "source": [
    "# 위의 오류내용을 보면, placeholder()의 입력은 데이터 타입(dtype)이 들어가야 하는데\n",
    "# 단순 문자열인 'Hello World!'가 들어와서 오류가 났다\n",
    "# placeholder의 올바른 사용법은 아래와 같다\n",
    "# hello_placeholder = tf.placeholder(tf.string)\n",
    "\n",
    "# placeholder의 사전적 의미는 '빠져 있는 다른 것을 대신하는 기호'이다\n",
    "# 텐서플로에서도 마찬가지로, 데이터가 빠져 있는 채로 타입과 모양이 정해져 있는 기호이다\n",
    "# 그러므로 데이터를 채워주는 코드를 따로 작성해야 한다\n",
    "# 이때 사용되는 함수가 run() 함수이다\n",
    "# run() 함수의 parameter로 feed_dict를 사용하여 placeholder에 데이터를 넣어준다\n",
    "placeholder_string = tf.placeholder(tf.string, shape=None)\n",
    "placeholder_int = tf.placeholder(tf.int32, shape=None)\n",
    "placeholder_float = tf.placeholder(tf.float32, shape=None)\n",
    "\n",
    "with tf.Session() as sess:\n",
    "    output_1 = sess.run(placeholder_string, feed_dict={placeholder_string: 'Hello World!'})\n",
    "print(output_1)\n",
    "\n",
    "with tf.Session() as sess:\n",
    "    output_2 = sess.run(placeholder_int, feed_dict={placeholder_int: 3})\n",
    "print(output_2)\n",
    "\n",
    "with tf.Session() as sess:\n",
    "    output_3 = sess.run(placeholder_float, feed_dict={placeholder_float: 3.0})\n",
    "print(output_3)\n",
    "\n",
    "# 한 번에 출력하기\n",
    "with tf.Session() as sess:\n",
    "    output_all = sess.run([placeholder_string, placeholder_int, placeholder_float],\n",
    "                          feed_dict={placeholder_string: 'Hello World!',\n",
    "                                     placeholder_int: 3,\n",
    "                                     placeholder_float: 3.0})\n",
    "res_x, res_y, res_z = output_all\n",
    "print(res_x, res_y, res_z)"
   ]
  },
  {
   "cell_type": "code",
   "execution_count": null,
   "metadata": {},
   "outputs": [],
   "source": [
    "## placeholder의 shape\n",
    "# placeholder(, shape=())\n",
    "# 위의 코드는 placeholder에 들어가는 데이터의 모양이 스칼라(scalar)라는 뜻\n",
    "x = tf.placeholder(tf.int32, shape=())\n",
    "with tf.Session() as sess:\n",
    "    output_1 = sess.run(x, feed_dict={x:1})\n",
    "print(output_1)\n",
    "\n",
    "# 1차원 텐서 shape\n",
    "y = tf.placeholder(tf.int32, shape=(1))\n",
    "with tf.Session() as sess:\n",
    "    output_2 = sess.run(y, feed_dict={y:[1]})\n",
    "print(output_2)\n",
    "\n",
    "# 2차원 텐서 shape\n",
    "z = tf.placeholder(tf.int32, shape=(1,1))\n",
    "with tf.Session() as sess:\n",
    "    output_3 = sess.run(z, feed_dict={z:[[1]]})\n",
    "print(output_3)\n",
    "\n",
    "# 3차원 텐서 shape\n",
    "xx = tf.placeholder(tf.int32, shape=(1,1,1))\n",
    "with tf.Session() as sess:\n",
    "    output_4 = sess.run(xx, feed_dict={xx:[[[1]]]})\n",
    "print(output_4)\n",
    "\n",
    "# 기타\n",
    "yy = tf.placeholder(tf.int32, shape=(2))\n",
    "with tf.Session() as sess:\n",
    "    output_5 = sess.run(yy, feed_dict={yy:[1, 2]})\n",
    "print(output_5)\n",
    "\n",
    "zz = tf.placeholder(tf.int32, shape=(2,2))\n",
    "with tf.Session() as sess:\n",
    "    output_6 = sess.run(zz, feed_dict={zz:[[1,2], [3,4]]})\n",
    "print(output_6)"
   ]
  },
  {
   "cell_type": "code",
   "execution_count": null,
   "metadata": {},
   "outputs": [],
   "source": [
    "## Variable(변수)\n",
    "# 딥러닝에서 가장 핵심적인 역할을 하는 타입\n",
    "# 딥러닝 모델을 학습한다는 것은\n",
    "# 가장 좋은 딥러닝 모델을 만드는 Variable을 찾는 것이라고 말할 수 있다\n",
    "x = tf.Variable(10)\n",
    "print(x)\n",
    "\n",
    "# placeholder와 다르게 변수에 들어갈 값을 선언 부분에 미리 넣어준다\n",
    "# 하지만 세션을 통해 실행할 때 큰 차이가 있다\n",
    "# 반드시 아래와 같이 초기화를 해준 후 run()을 호출해야 한다\n",
    "with tf.Session() as sess:\n",
    "    output = sess.run(x)\n",
    "print(output)"
   ]
  },
  {
   "cell_type": "code",
   "execution_count": null,
   "metadata": {},
   "outputs": [],
   "source": [
    "# 초기화를 하지 않고 run()을 호출하면 위와 같은 오류가 발생한다\n",
    "# 이 오류 메시지는 Variable을 초기화하지 않았다고(uninitialized) 말해준다\n",
    "# 그러므로 다음과 같이 반드시 초기화를 해준 후에 실행해야 한다.\n",
    "x = tf.Variable(10)\n",
    "init = tf.global_variables_initializer()\n",
    "with tf.Session() as sess:\n",
    "    sess.run(init)\n",
    "    output = sess.run(x)\n",
    "print(output)\n",
    "print(type(output))"
   ]
  },
  {
   "cell_type": "markdown",
   "metadata": {},
   "source": [
    "### 기초 수학 연산\n",
    "- 기초 사칙연산\n",
    "\n",
    "- 스칼라 덧셈\n",
    "\n",
    "- 텐서플로에서 제공하는 다양한 연산 함수"
   ]
  },
  {
   "cell_type": "code",
   "execution_count": null,
   "metadata": {},
   "outputs": [],
   "source": [
    "## 기초 사칙연산\n",
    "x = tf.constant(10)\n",
    "y = tf.constant(2)\n",
    "z = x / y\n",
    "w = z - 1\n",
    "print(x)\n",
    "print(y)\n",
    "print(z)\n",
    "print(w)"
   ]
  },
  {
   "cell_type": "code",
   "execution_count": null,
   "metadata": {},
   "outputs": [],
   "source": [
    "with tf.Session() as sess:\n",
    "    output = sess.run([z, w])\n",
    "print(output)"
   ]
  },
  {
   "cell_type": "code",
   "execution_count": null,
   "metadata": {},
   "outputs": [],
   "source": [
    "# placeholder로 연산\n",
    "x = tf.placeholder(tf.int32, shape=None)\n",
    "y = tf.placeholder(tf.int32, shape=None)\n",
    "z = x / y\n",
    "w = z - 1\n",
    "\n",
    "with tf.Session() as sess:\n",
    "    output = sess.run([z, w], feed_dict={x:10, y:2})\n",
    "print(output)\n",
    "\n",
    "## 위 코드를 보면, x, y와는 다르게 z, w는 placeholder로 선언되지 않았다\n",
    "## 이런 경우 feed_dict에는 z, w와 관련이 있는 모든 placeholder들을 feed_dict에 넣어줘야 한다"
   ]
  },
  {
   "cell_type": "code",
   "execution_count": null,
   "metadata": {},
   "outputs": [],
   "source": [
    "## 스칼라 덧셈\n",
    "x = tf.constant(10)\n",
    "y = tf.constant(2)\n",
    "z = x + y\n",
    "\n",
    "with tf.Session() as sess:\n",
    "    output = sess.run(z)\n",
    "print(output)"
   ]
  },
  {
   "cell_type": "code",
   "execution_count": null,
   "metadata": {},
   "outputs": [],
   "source": [
    "## placeholder를 사용한 스칼라 덧셈\n",
    "x = tf.placeholder(tf.int32, shape=None)\n",
    "y = tf.placeholder(tf.int32, shape=None)\n",
    "z = x + y\n",
    "\n",
    "with tf.Session() as sess:\n",
    "    output = sess.run(z, feed_dict={x:10, y:2})\n",
    "print(output)"
   ]
  },
  {
   "cell_type": "code",
   "execution_count": null,
   "metadata": {},
   "outputs": [],
   "source": [
    "## Variable을 사용한 스칼라 덧셈\n",
    "# 이 경우 항상 초기화를 해줘야 한다\n",
    "x = tf.Variable(10, dtype=tf.int32)\n",
    "y = tf.Variable(2, dtype=tf.int32)\n",
    "z = x + y\n",
    "\n",
    "init = tf.global_variables_initializer()\n",
    "with tf.Session() as sess:\n",
    "    sess.run(init)\n",
    "    output = sess.run(z, feed_dict={x:10, y:2})\n",
    "print(output)"
   ]
  },
  {
   "cell_type": "code",
   "execution_count": null,
   "metadata": {},
   "outputs": [],
   "source": [
    "## 텐서플로에서 제공하는 다양한 연산 함수\n",
    "## square() : 주어진 입력의 제곱값을 구해준다\n",
    "# Constant\n",
    "x = tf.constant(4.0)\n",
    "z = tf.square(x)\n",
    "\n",
    "with tf.Session() as sess:\n",
    "    output = sess.run(z)\n",
    "print(output)\n",
    "\n",
    "# Placeholder\n",
    "x = tf.placeholder(tf.float32)\n",
    "z = tf.square(x)\n",
    "with tf.Session() as sess:\n",
    "    output = sess.run(z, feed_dict={x:4.0})\n",
    "print(output)\n",
    "\n",
    "# Variable\n",
    "x = tf.Variable(4.0, dtype=tf.float32)\n",
    "z = tf.square(x)\n",
    "\n",
    "init = tf.global_variables_initializer()\n",
    "with tf.Session() as sess:\n",
    "    sess.run(init)\n",
    "    output = sess.run(z)\n",
    "print(output)"
   ]
  },
  {
   "cell_type": "code",
   "execution_count": null,
   "metadata": {},
   "outputs": [],
   "source": [
    "## pow() : n-제곱수를 구하는 함수\n",
    "# c = pow(a, b)는 c = a^b를 나타낸다\n",
    "# 입력값의 n제곱을 구한다\n",
    "# Constant\n",
    "x = tf.constant(4.0)\n",
    "z = tf.pow(x, 3)\n",
    "with tf.Session() as sess:\n",
    "    output = sess.run(z)\n",
    "print(output)\n",
    "\n",
    "# Placeholder\n",
    "x = tf.placeholder(tf.float32, shape=None)\n",
    "z = tf.pow(x, 3)\n",
    "with tf.Session() as sess:\n",
    "    output = sess.run(z, feed_dict={x: 4.0})\n",
    "print(output)\n",
    "\n",
    "# Variable\n",
    "x = tf.Variable(4.0, dtype=tf.float32)\n",
    "z = tf.pow(x, 3)\n",
    "\n",
    "init = tf.global_variables_initializer()\n",
    "with tf.Session() as sess:\n",
    "    sess.run(init)\n",
    "    output = sess.run(z, feed_dict={x:4.0})\n",
    "print(output)"
   ]
  },
  {
   "cell_type": "code",
   "execution_count": null,
   "metadata": {},
   "outputs": [],
   "source": [
    "## squared_difference() : 두 수(x, y) 차이의 제곱값을 구해주는 함수\n",
    "# 이 함수는 최소자승법(Least Squared Method)에서 손실함수(Cost function)을 구할 때 자주 사용하게 된다\n",
    "# Constant\n",
    "x = tf.constant(4.0)\n",
    "y = tf.constant(1.0)\n",
    "z = tf.squared_difference(x, y)\n",
    "with tf.Session() as sess:\n",
    "    output = sess.run(z)\n",
    "print(output)\n",
    "\n",
    "# Placeholder\n",
    "x = tf.placeholder(tf.float32, shape=None)\n",
    "y = tf.placeholder(tf.float32, shape=None)\n",
    "z = tf.squared_difference(x, y)\n",
    "with tf.Session() as sess:\n",
    "    output = sess.run(z, feed_dict={x:4.0, y:1.0})\n",
    "print(output)\n",
    "\n",
    "# Variable\n",
    "x = tf.Variable(4.0, dtype=tf.float32)\n",
    "y = tf.Variable(1.0, dtype=tf.float32)\n",
    "z = tf.squared_difference(x, y)\n",
    "\n",
    "init = tf.global_variables_initializer()\n",
    "with tf.Session() as sess:\n",
    "    sess.run(init)\n",
    "    output = sess.run(z)\n",
    "print(output)"
   ]
  },
  {
   "cell_type": "code",
   "execution_count": null,
   "metadata": {},
   "outputs": [],
   "source": [
    "## sqrt() : 제곱근을 구해주는 함수\n",
    "# Constant\n",
    "x = tf.constant(4.0)\n",
    "z = tf.sqrt(x)\n",
    "with tf.Session() as sess:\n",
    "    output = sess.run(z)\n",
    "print(output)\n",
    "\n",
    "# Placeholder\n",
    "x = tf.placeholder(tf.float32, shape=None)\n",
    "z = tf.sqrt(x)\n",
    "with tf.Session() as sess:\n",
    "    output = sess.run(z, feed_dict={x:4.0})\n",
    "print(output)\n",
    "\n",
    "# Variable\n",
    "x = tf.Variable(4.0, dtype=tf.float32)\n",
    "z = tf.sqrt(x)\n",
    "init = tf.global_variables_initializer()\n",
    "with tf.Session() as sess:\n",
    "    sess.run(init)\n",
    "    output = sess.run(z)\n",
    "print(output)"
   ]
  },
  {
   "cell_type": "code",
   "execution_count": null,
   "metadata": {},
   "outputs": [],
   "source": [
    "## pow()를 사용하면 n-제곱 외에도 n-제곱근을 구할 수 있다\n",
    "# Constant\n",
    "x = tf.constant(8.0)\n",
    "z = tf.pow(x, 1.0/3.0)\n",
    "with tf.Session() as sess:\n",
    "    output = sess.run(z)\n",
    "print(output)\n",
    "\n",
    "# Placeholder\n",
    "x = tf.placeholder(tf.float32, shape=None)\n",
    "z = tf.pow(x, 1.0/3.0)\n",
    "with tf.Session() as sess:\n",
    "    output = sess.run(z, feed_dict={x:8.0})\n",
    "print(output)\n",
    "\n",
    "# Variable\n",
    "x = tf.Variable(8.0, dtype=tf.float32)\n",
    "z = tf.pow(x, 1.0/3.0)\n",
    "init = tf.global_variables_initializer()\n",
    "with tf.Session() as sess:\n",
    "    sess.run(init)\n",
    "    output = sess.run(z)\n",
    "print(output)"
   ]
  },
  {
   "cell_type": "code",
   "execution_count": null,
   "metadata": {},
   "outputs": [],
   "source": [
    "## sin() / cos() : 삼각함수, sin, cos을 구해준다\n",
    "# Constant\n",
    "x = tf.constant(np.pi/3.0)\n",
    "y = tf.sin(x)\n",
    "z = tf.cos(x)\n",
    "with tf.Session() as sess:\n",
    "    output = sess.run([y, z])\n",
    "print(output)\n",
    "\n",
    "# Placeholder\n",
    "x = tf.placeholder(tf.float32, shape=None)\n",
    "y = tf.sin(x)\n",
    "z = tf.cos(x)\n",
    "with tf.Session() as sess:\n",
    "    output = sess.run([y, z], feed_dict={x:np.pi/3.0})\n",
    "print(output)"
   ]
  },
  {
   "cell_type": "code",
   "execution_count": 7,
   "metadata": {},
   "outputs": [
    {
     "name": "stdout",
     "output_type": "stream",
     "text": [
      "[2.718281828459045, 0.0]\n",
      "[2.718281828459045, 0.0]\n",
      "[2.718281828459045, 0.0]\n"
     ]
    }
   ],
   "source": [
    "## exp() : 지수함수를 구해준다\n",
    "## log() : 로그함수를 구해준다\n",
    "# Constant\n",
    "x = tf.constant(1.0, dtype=tf.float64)\n",
    "y = tf.exp(x)\n",
    "z = tf.log(x)\n",
    "with tf.Session() as sess:\n",
    "    output = sess.run([y, z])\n",
    "print(output)\n",
    "\n",
    "# Placeholder\n",
    "x = tf.placeholder(tf.float64, shape=None)\n",
    "y = tf.exp(x)\n",
    "z = tf.log(x)\n",
    "with tf.Session() as sess:\n",
    "    output = sess.run([y, z], feed_dict={x:1.0})\n",
    "print(output)\n",
    "\n",
    "# Variable\n",
    "x = tf.Variable(1.0, dtype=tf.float64)\n",
    "y = tf.exp(x)\n",
    "z = tf.log(x)\n",
    "init = tf.global_variables_initializer()\n",
    "with tf.Session() as sess:\n",
    "    sess.run(init)\n",
    "    output = sess.run([y, z])\n",
    "print(output)"
   ]
  },
  {
   "cell_type": "code",
   "execution_count": 10,
   "metadata": {},
   "outputs": [
    {
     "name": "stdout",
     "output_type": "stream",
     "text": [
      "[1, 10]\n",
      "[1, 10]\n",
      "[1, 10]\n"
     ]
    }
   ],
   "source": [
    "## 리덕션(Reduction) : 여러 개의 값들을 사용하여 한 개의 값을 계산하는 연산\n",
    "## 사전적 의미는 감소, 소거, 줄임이다\n",
    "## reduce_min() / reduce_max() : 최솟값, 최댓값\n",
    "# Constant\n",
    "x = tf.constant([1,2,3,4,5,6,7,8,9,10])\n",
    "y = tf.reduce_min(x)\n",
    "z = tf.reduce_max(x)\n",
    "with tf.Session() as sess:\n",
    "    output = sess.run([y, z])\n",
    "print(output)\n",
    "\n",
    "# Placeholder\n",
    "x = tf.placeholder(tf.int32)\n",
    "y = tf.reduce_min(x)\n",
    "z = tf.reduce_max(x)\n",
    "with tf.Session() as sess:\n",
    "    output = sess.run([y, z], feed_dict={x:[1,2,3,4,5,6,7,8,9,10]})\n",
    "print(output)\n",
    "\n",
    "# Variable\n",
    "x = tf.Variable([1,2,3,4,5,6,7,8,9,10])\n",
    "y = tf.reduce_min(x)\n",
    "z = tf.reduce_max(x)\n",
    "init = tf.global_variables_initializer()\n",
    "with tf.Session() as sess:\n",
    "    sess.run(init)\n",
    "    output = sess.run([y, z])\n",
    "print(output)"
   ]
  },
  {
   "cell_type": "code",
   "execution_count": 13,
   "metadata": {},
   "outputs": [
    {
     "name": "stdout",
     "output_type": "stream",
     "text": [
      "[55, 5]\n",
      "[55, 5]\n",
      "[55, 5]\n"
     ]
    }
   ],
   "source": [
    "## reduce_sum() / reduce_mean() : 합계, 평균\n",
    "# Constant\n",
    "x = tf.constant([1,2,3,4,5,6,7,8,9,10])\n",
    "y = tf.reduce_sum(x)\n",
    "z = tf.reduce_mean(x)\n",
    "with tf.Session() as sess:\n",
    "    output = sess.run([y, z])\n",
    "print(output)\n",
    "\n",
    "# Placeholder\n",
    "x = tf.placeholder(tf.int32)\n",
    "y = tf.reduce_sum(x)\n",
    "z = tf.reduce_mean(x)\n",
    "with tf.Session() as sess:\n",
    "    output = sess.run([y, z], feed_dict={x:[1,2,3,4,5,6,7,8,9,10]})\n",
    "print(output)\n",
    "\n",
    "# Variable\n",
    "x = tf.Variable([1,2,3,4,5,6,7,8,9,10])\n",
    "y = tf.reduce_sum(x)\n",
    "z = tf.reduce_mean(x)\n",
    "init = tf.global_variables_initializer()\n",
    "with tf.Session() as sess:\n",
    "    sess.run(init)\n",
    "    output = sess.run([y, z])\n",
    "print(output)"
   ]
  },
  {
   "cell_type": "code",
   "execution_count": null,
   "metadata": {},
   "outputs": [],
   "source": []
  }
 ],
 "metadata": {
  "kernelspec": {
   "display_name": "Python 3",
   "language": "python",
   "name": "python3"
  },
  "language_info": {
   "codemirror_mode": {
    "name": "ipython",
    "version": 3
   },
   "file_extension": ".py",
   "mimetype": "text/x-python",
   "name": "python",
   "nbconvert_exporter": "python",
   "pygments_lexer": "ipython3",
   "version": "3.5.6"
  }
 },
 "nbformat": 4,
 "nbformat_minor": 4
}
