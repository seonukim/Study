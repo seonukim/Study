{
 "cells": [
  {
   "cell_type": "code",
   "execution_count": 1,
   "metadata": {},
   "outputs": [
    {
     "name": "stdout",
     "output_type": "stream",
     "text": [
      "1.10.0\n"
     ]
    }
   ],
   "source": [
    "import tensorflow as tf\n",
    "print(tf.__version__)"
   ]
  },
  {
   "cell_type": "code",
   "execution_count": 7,
   "metadata": {},
   "outputs": [
    {
     "name": "stdout",
     "output_type": "stream",
     "text": [
      "inner_product of x_T, y : [[32.]]\n"
     ]
    }
   ],
   "source": [
    "# 벡터의 내적\n",
    "# x*y\n",
    "# <x,y>\n",
    "# x^Ty\n",
    "x = tf.placeholder(tf.float32, shape=(3,1))\n",
    "y = tf.placeholder(tf.float32, shape=(3,1))\n",
    "x_T = tf.transpose(x)\n",
    "inner_product = tf.matmul(x_T, y)\n",
    "with tf.Session() as sess:\n",
    "    output = sess.run(inner_product, feed_dict={x:[[1],[2],[3]],\n",
    "                                                y:[[4],[5],[6]]})\n",
    "    print('inner_product of x_T, y : {0}'.format(output))"
   ]
  },
  {
   "cell_type": "code",
   "execution_count": 10,
   "metadata": {},
   "outputs": [
    {
     "name": "stdout",
     "output_type": "stream",
     "text": [
      "Norm of x_T, x : [[3.7416575]]\n",
      "Norm of y : 3.7416574954986572\n"
     ]
    }
   ],
   "source": [
    "# 벡터의 크기(Norm)\n",
    "x = tf.placeholder(tf.float32, (3,1))\n",
    "x_T = tf.transpose(x)\n",
    "x_norm = tf.sqrt(tf.matmul(x_T, x))\n",
    "with tf.Session() as sess:\n",
    "    output = sess.run(x_norm, feed_dict={x:[[1],[2],[3]]})\n",
    "    print('Norm of x_T, x : {0}'.format(output))\n",
    "\n",
    "# Norm을 계산하는 더 간단한 방법\n",
    "y = tf.placeholder(tf.float32, (3,1))\n",
    "y_norm = tf.norm(y)\n",
    "with tf.Session() as sess:\n",
    "    output_y = sess.run(y_norm, feed_dict={y:[[1],[2],[3]]})\n",
    "    print('Norm of y : {0}'.format(output_y))"
   ]
  },
  {
   "cell_type": "code",
   "execution_count": null,
   "metadata": {},
   "outputs": [],
   "source": []
  }
 ],
 "metadata": {
  "kernelspec": {
   "display_name": "Python 3",
   "language": "python",
   "name": "python3"
  },
  "language_info": {
   "codemirror_mode": {
    "name": "ipython",
    "version": 3
   },
   "file_extension": ".py",
   "mimetype": "text/x-python",
   "name": "python",
   "nbconvert_exporter": "python",
   "pygments_lexer": "ipython3",
   "version": "3.5.6"
  }
 },
 "nbformat": 4,
 "nbformat_minor": 4
}
