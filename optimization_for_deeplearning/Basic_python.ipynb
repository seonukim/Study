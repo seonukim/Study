{
 "cells": [
  {
   "cell_type": "code",
   "execution_count": 3,
   "metadata": {},
   "outputs": [
    {
     "name": "stdout",
     "output_type": "stream",
     "text": [
      "<class 'int'>\n",
      "<class 'float'>\n",
      "<class 'str'>\n"
     ]
    }
   ],
   "source": [
    "## 변수와 자료형\n",
    "\n",
    "a = 1          # int로 선언\n",
    "b = 2.         # float로 선언\n",
    "c = \"String\"   # string으로 선언\n",
    "\n",
    "print(type(a))\n",
    "print(type(b))\n",
    "print(type(c))"
   ]
  },
  {
   "cell_type": "code",
   "execution_count": 10,
   "metadata": {},
   "outputs": [
    {
     "name": "stdout",
     "output_type": "stream",
     "text": [
      "3.0\n",
      "3.0\n",
      "3\n"
     ]
    }
   ],
   "source": [
    "## 함수\n",
    "# 1. 함수\n",
    "def f1(x, y):\n",
    "    val = x + y\n",
    "    return val\n",
    "\n",
    "# 2. 익명함수(lambda 함수)\n",
    "f2 = lambda x, y: x + y\n",
    "\n",
    "d = f1(a, b)\n",
    "e = f2(a, b)\n",
    "print(d)\n",
    "print(e)\n",
    "print(int(d))     # int형으로 자료형 변경"
   ]
  },
  {
   "cell_type": "code",
   "execution_count": 16,
   "metadata": {},
   "outputs": [
    {
     "name": "stdout",
     "output_type": "stream",
     "text": [
      "[1, 3, 4]\n",
      "[9, 3, 4]\n",
      "[1, 3, 'string']\n",
      "[1, 3, 'string', 6.24]\n",
      "(1, 2, 3)\n",
      "(1, 3, 'string')\n"
     ]
    }
   ],
   "source": [
    "## 주요 자료형\n",
    "# 1. 리스트\n",
    "a = [1, 3, 4]\n",
    "print(a)    # [1, 3, 4]\n",
    "\n",
    "a[0] = 9\n",
    "print(a)    # [9, 3, 4]\n",
    "\n",
    "b = [1, 3, 'string']\n",
    "print(b)    # [1, 3, 'string']\n",
    "\n",
    "b.append(6.24)\n",
    "print(b)    # [1, 3, 'string', 6.24]\n",
    "\n",
    "# 2. 튜플\n",
    "a = (1, 2, 3)\n",
    "print(a)\n",
    "\n",
    "a[0] = 2     # TypeError: 'tuple' object does not support item assignment\n",
    "a.append(4)  # AttributeError: 'tuple' object has no attribute 'append'\n",
    "\n",
    "b = (1, 3, 'string')\n",
    "print(b)     # (1, 3, 'string')"
   ]
  },
  {
   "cell_type": "code",
   "execution_count": 23,
   "metadata": {},
   "outputs": [
    {
     "name": "stdout",
     "output_type": "stream",
     "text": [
      "{'B': 'C', 'A': 2.3, 5: 'D'}\n",
      "{'B': 'C', 'A': 5.2, 5: 'D'}\n",
      "{'B': 'C', 'Hello': [1, 2, 3, 4, 'World.'], 'A': 5.2, 5: 'D'}\n"
     ]
    }
   ],
   "source": [
    "# 3. 딕셔너리\n",
    "info = {'A': 2.3, 'B': 'C', 5: 'D'}\n",
    "print(info)    # {'B': 'C', 'A': 2.3, 5: 'D'}\n",
    "\n",
    "info['A'] = 5.2\n",
    "print(info)    # {'B': 'C', 'A': 5.2, 5: 'D'}\n",
    "\n",
    "info['Hello'] = [1, 2, 3, 4, 'World.']\n",
    "print(info)    # {'B': 'C', 'Hello': [1, 2, 3, 4, 'World.'], 'A': 5.2, 5: 'D'}"
   ]
  },
  {
   "cell_type": "code",
   "execution_count": 34,
   "metadata": {},
   "outputs": [
    {
     "name": "stdout",
     "output_type": "stream",
     "text": [
      "1\n",
      "2\n",
      "3\n",
      "4\n",
      "Hello\n",
      "6.24\n",
      "1\n",
      "2\n",
      "3\n",
      "4\n",
      "Hello\n",
      "6.24\n",
      "a is not bigger than 4.\n",
      "a is bigger than 4.\n",
      "Start method()\n",
      "0\n",
      "1\n",
      "4\n",
      "9\n",
      "16\n",
      "Start generator()\n",
      "0\n",
      "1\n",
      "4\n",
      "9\n",
      "16\n"
     ]
    }
   ],
   "source": [
    "## 제어문\n",
    "# 1. for 반복문(for loop)\n",
    "items = [1, 2, 3, 4, 'Hello', 6.24]\n",
    "for k in range(0, len(items)):\n",
    "    print(items[k])\n",
    "\n",
    "for item in items:\n",
    "    print(item)\n",
    "    \n",
    "# 2. 조건 if문(if statement)\n",
    "a = 3\n",
    "if a > 4:\n",
    "    print('a is bigger than 4.')\n",
    "else:\n",
    "    print('a is not bigger than 4.')     # a is not bigger than 4.\n",
    "\n",
    "a = 5\n",
    "if a > 4:\n",
    "    print('a is bigger than 4.')\n",
    "else:\n",
    "    print('a is not bigger than 4.')     # a is bigger than 4.\n",
    "\n",
    "# 3. 제너레이터(Generator)\n",
    "# 딥러닝에서 학습용 데이터의 배치(batch)를 만들 때 많이 사용함\n",
    "def method():\n",
    "    print(\"Start method()\")\n",
    "    val = []\n",
    "    for x in range(0, 5):\n",
    "        val.append(x**2)\n",
    "    return val\n",
    "\n",
    "# method()\n",
    "\n",
    "out = method()\n",
    "for i in range(0, 5):\n",
    "    print(out[i])\n",
    "\n",
    "# 제너레이터는 메모리 문제와 성능 문제를 해결해준다\n",
    "# yield 키워드를 사용하여 제너레이터를 이용할 수 있다\n",
    "def generator():\n",
    "    print(\"Start generator()\")\n",
    "    for x in range(0, 5):\n",
    "        yield x**2\n",
    "\n",
    "gen = generator()\n",
    "for i in range(0, 5):\n",
    "    print(next(gen))"
   ]
  },
  {
   "cell_type": "code",
   "execution_count": 39,
   "metadata": {},
   "outputs": [
    {
     "name": "stdout",
     "output_type": "stream",
     "text": [
      "1 2\n",
      "3 4\n",
      "5 6\n",
      "1 2\n",
      "3 4\n",
      "5 6\n",
      "1 2\n",
      "3 4\n",
      "5 6\n",
      "B 2\n",
      "C 3\n",
      "A 1\n",
      "B 2\n",
      "C 3\n",
      "A 1\n"
     ]
    }
   ],
   "source": [
    "## 데이터 타입마다 다른 for loop 스타일\n",
    "items = [[1,2], [3,4], [5,6]]\n",
    "for item in items:\n",
    "    print(item[0], item[1])\n",
    "\n",
    "for item1, item2 in items:\n",
    "    print(item1, item2)\n",
    "    \n",
    "## 데이터 타입마다 다른 for loop 스타일 - 튜플\n",
    "items = [(1,2), (3,4), (5,6)]\n",
    "for item1, item2 in items:\n",
    "    print(item1, item2)\n",
    "\n",
    "## 딕셔너리의 경우는 for문을 적용할 때 주의해야 함\n",
    "## 다음의 코드처럼 for key in info: 를 이용하게 되면 키 값에만 접근한다\n",
    "info = {'A':1, 'B':2, 'C':3}\n",
    "for key in info:\n",
    "    print(key, info[key])\n",
    "\n",
    "## 매번 밸류에 접근하기가 불편하다면 items()를 사용한다\n",
    "for key, value in info.items():\n",
    "    print(key, value)"
   ]
  },
  {
   "cell_type": "code",
   "execution_count": 41,
   "metadata": {},
   "outputs": [
    {
     "name": "stdout",
     "output_type": "stream",
     "text": [
      "[[1, 2], [3, 4], [5, 6]]\n",
      "[['A', 'B'], ['C', 'D'], ['E', 'F']]\n",
      "[1, 2] ['A', 'B']\n",
      "[3, 4] ['C', 'D']\n",
      "[5, 6] ['E', 'F']\n"
     ]
    }
   ],
   "source": [
    "## zip가 들어간 for loop\n",
    "items1 = [[1,2], [3,4], [5,6]]\n",
    "items2 = [['A','B'], ['C','D'], ['E','F']]\n",
    "print(items1)\n",
    "print(items2)\n",
    "\n",
    "for digits, characters in zip(items1, items2):\n",
    "    print(digits, characters)\n",
    "\n",
    "## 이 패턴은 딥러닝에서 중요한 개념인 미니 배치 경사하강법에서\n",
    "## 학습용 데이터와 레이블을 묶어줄 때 자주 사용된다."
   ]
  },
  {
   "cell_type": "code",
   "execution_count": 45,
   "metadata": {},
   "outputs": [
    {
     "name": "stdout",
     "output_type": "stream",
     "text": [
      "[0, 1, 2, 3, 4]\n",
      "[0, 1, 2, 3, 4]\n",
      "[0, 2, 4]\n",
      "{0: 0, 1: 10, 2: 20, 3: 30, 4: 40}\n"
     ]
    }
   ],
   "source": [
    "## 한 줄 for문\n",
    "a = []\n",
    "for k in range(0,5):\n",
    "    a.append(k)\n",
    "print(a)    # [0, 1, 2, 3, 4]\n",
    "\n",
    "a = [k for k in range(0,5)]\n",
    "print(a)    # [0, 1, 2, 3, 4]\n",
    "\n",
    "## 뒤에 if문을 붙이면 해당 조건에 맞는 데이터만 리스트에 추가함\n",
    "a = [k for k in range(0,5) if k % 2 == 0]\n",
    "print(a)    # [0, 2, 4]\n",
    "\n",
    "## 딕셔너리로도 한 줄 for문을 이용할 수 있다.\n",
    "## 다음은 for문을 돌면서 k를 키로 등록하고 밸류에는 k*10을 할당하는 코드\n",
    "a = {k : k*10 for k in range(0,5)}\n",
    "print(a)"
   ]
  },
  {
   "cell_type": "code",
   "execution_count": 49,
   "metadata": {},
   "outputs": [
    {
     "name": "stdout",
     "output_type": "stream",
     "text": [
      "Hello, World!\n"
     ]
    }
   ],
   "source": [
    "## 파일 읽기/쓰기\n",
    "# 파일 쓰기\n",
    "filename = 'readme.txt'\n",
    "file = open(filename, 'w')\n",
    "file.write('Hello, World!')\n",
    "file.close()\n",
    "\n",
    "# 파일 읽기\n",
    "filename = 'readme.txt'\n",
    "file = open(filename, 'r')\n",
    "content = file.read()\n",
    "print(content)\n",
    "file.close()"
   ]
  },
  {
   "cell_type": "code",
   "execution_count": 50,
   "metadata": {},
   "outputs": [],
   "source": [
    "# 파일을 모두 읽은 뒤에는 반드시 close()를 호출해서 닫아줘야 한다\n",
    "filename = 'readme.txt'\n",
    "with open(filename, 'w') as file:\n",
    "    file.write('Hello, World!')"
   ]
  }
 ],
 "metadata": {
  "kernelspec": {
   "display_name": "Python 3",
   "language": "python",
   "name": "python3"
  },
  "language_info": {
   "codemirror_mode": {
    "name": "ipython",
    "version": 3
   },
   "file_extension": ".py",
   "mimetype": "text/x-python",
   "name": "python",
   "nbconvert_exporter": "python",
   "pygments_lexer": "ipython3",
   "version": "3.5.6"
  }
 },
 "nbformat": 4,
 "nbformat_minor": 4
}
